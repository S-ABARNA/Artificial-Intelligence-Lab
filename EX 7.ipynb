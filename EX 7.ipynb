{
  "nbformat": 4,
  "nbformat_minor": 0,
  "metadata": {
    "colab": {
      "provenance": [],
      "authorship_tag": "ABX9TyMFYcxfr51wlM8d/IAJxVFu",
      "include_colab_link": true
    },
    "kernelspec": {
      "name": "python3",
      "display_name": "Python 3"
    },
    "language_info": {
      "name": "python"
    }
  },
  "cells": [
    {
      "cell_type": "markdown",
      "metadata": {
        "id": "view-in-github",
        "colab_type": "text"
      },
      "source": [
        "<a href=\"https://colab.research.google.com/github/S-ABARNA/Artificial-Intelligence-Lab/blob/main/EX%207.ipynb\" target=\"_parent\"><img src=\"https://colab.research.google.com/assets/colab-badge.svg\" alt=\"Open In Colab\"/></a>"
      ]
    },
    {
      "cell_type": "code",
      "source": [
        "!pip install --no-cache-dir python-constraint"
      ],
      "metadata": {
        "colab": {
          "base_uri": "https://localhost:8080/"
        },
        "id": "oM9D7iTuG3OV",
        "outputId": "3197448f-9fcb-477c-a964-c671e3feaaeb"
      },
      "execution_count": 2,
      "outputs": [
        {
          "output_type": "stream",
          "name": "stdout",
          "text": [
            "Collecting python-constraint\n",
            "  Downloading python-constraint-1.4.0.tar.bz2 (18 kB)\n",
            "  Preparing metadata (setup.py) ... \u001b[?25l\u001b[?25hdone\n",
            "Building wheels for collected packages: python-constraint\n",
            "  Building wheel for python-constraint (setup.py) ... \u001b[?25l\u001b[?25hdone\n",
            "  Created wheel for python-constraint: filename=python_constraint-1.4.0-py2.py3-none-any.whl size=24059 sha256=dda89a2be484bab0e51d7ad6a1bd3d8bfc6410ea5cda7b04cd615c8578286a7d\n",
            "  Stored in directory: /tmp/pip-ephem-wheel-cache-zr7yb22s/wheels/1e/af/a9/990ae7e6a78319b7d7afaab2d14e7e5ae349d5613db5ae28fd\n",
            "Successfully built python-constraint\n",
            "Installing collected packages: python-constraint\n",
            "Successfully installed python-constraint-1.4.0\n"
          ]
        }
      ]
    },
    {
      "cell_type": "code",
      "source": [
        "from constraint import Problem, AllDifferentConstraint\n",
        "\n",
        "def constraint_function(variables, domains, assignments):\n",
        "    # Define your constraints here\n",
        "    # Example: variables[0] + variables[1] == variables[2]\n",
        "    return True\n",
        "\n",
        "def main():\n",
        "    # Create a problem instance\n",
        "    problem = Problem()\n",
        "\n",
        "    # Add variables to the problem\n",
        "    problem.addVariable('a', range(1, 5))\n",
        "    problem.addVariable('b', range(2, 4))\n",
        "    problem.addVariable('c', range(1, 3))\n",
        "\n",
        "    # Add a constraint function to the problem\n",
        "    problem.addConstraint(constraint_function, ['a', 'b', 'c'])\n",
        "\n",
        "    # Optionally, add an \"All Different\" constraint\n",
        "    problem.addConstraint(AllDifferentConstraint(), ['a', 'b', 'c'])\n",
        "\n",
        "    # Solve the problem\n",
        "    solutions = problem.getSolutions()\n",
        "\n",
        "    # Print the solutions\n",
        "    for solution in solutions:\n",
        "        print(solution)\n",
        "\n",
        "if __name__ == \"__main__\":\n",
        "    main()\n"
      ],
      "metadata": {
        "colab": {
          "base_uri": "https://localhost:8080/"
        },
        "id": "XSw0WdKvG_rI",
        "outputId": "683ede3a-566f-4d20-f7d9-f5cf74332c7b"
      },
      "execution_count": 3,
      "outputs": [
        {
          "output_type": "stream",
          "name": "stdout",
          "text": [
            "{'b': 3, 'c': 2, 'a': 4}\n",
            "{'b': 3, 'c': 2, 'a': 1}\n",
            "{'b': 3, 'c': 1, 'a': 2}\n",
            "{'b': 3, 'c': 1, 'a': 4}\n",
            "{'b': 2, 'c': 1, 'a': 3}\n",
            "{'b': 2, 'c': 1, 'a': 4}\n"
          ]
        }
      ]
    }
  ]
}