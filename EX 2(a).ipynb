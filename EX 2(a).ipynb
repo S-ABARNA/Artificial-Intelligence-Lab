{
  "nbformat": 4,
  "nbformat_minor": 0,
  "metadata": {
    "colab": {
      "provenance": [],
      "authorship_tag": "ABX9TyP72U1UWT4aTgkKK8482+ES",
      "include_colab_link": true
    },
    "kernelspec": {
      "name": "python3",
      "display_name": "Python 3"
    },
    "language_info": {
      "name": "python"
    }
  },
  "cells": [
    {
      "cell_type": "markdown",
      "metadata": {
        "id": "view-in-github",
        "colab_type": "text"
      },
      "source": [
        "<a href=\"https://colab.research.google.com/github/S-ABARNA/Artificial-Intelligence-Lab/blob/main/EX%202(a).ipynb\" target=\"_parent\"><img src=\"https://colab.research.google.com/assets/colab-badge.svg\" alt=\"Open In Colab\"/></a>"
      ]
    },
    {
      "cell_type": "code",
      "execution_count": 1,
      "metadata": {
        "colab": {
          "base_uri": "https://localhost:8080/"
        },
        "id": "96nXVf6k72ii",
        "outputId": "e1ce9e69-497d-41b3-aa7a-c6c66127b629"
      },
      "outputs": [
        {
          "output_type": "stream",
          "name": "stdout",
          "text": [
            "Following is Breadth First Traversal (starting from vertex 2):\n",
            "2 0 3 1 "
          ]
        }
      ],
      "source": [
        "# Python3 Program to print BFS traversal from a given source vertex.\n",
        "# BFS(int s) traverses vertices reachable from s.\n",
        "\n",
        "from collections import defaultdict\n",
        "\n",
        "# This class represents a directed graph using adjacency list representation\n",
        "class Graph:\n",
        "\n",
        "    # Constructor\n",
        "    def __init__(self):\n",
        "        # Default dictionary to store graph\n",
        "        self.graph = defaultdict(list)\n",
        "        # List to track visited nodes\n",
        "        self.visited = []\n",
        "\n",
        "    # Function to add an edge to graph\n",
        "    def addEdge(self, u, v):\n",
        "        self.graph[u].append(v)\n",
        "\n",
        "    # Function to print a BFS of graph\n",
        "    def BFS(self, s):\n",
        "        # Create a queue for BFS\n",
        "        queue = []\n",
        "\n",
        "        # Add the source node in visited and enqueue it\n",
        "        queue.append(s)\n",
        "        self.visited.append(s)\n",
        "\n",
        "        while queue:\n",
        "            # Dequeue a vertex from queue and print it\n",
        "            s = queue.pop(0)\n",
        "            print(s, end=\" \")\n",
        "\n",
        "            # Get all adjacent vertices of the dequeued vertex s.\n",
        "            # If an adjacent vertex has not been visited, then mark it as visited and enqueue it.\n",
        "            for i in self.graph[s]:\n",
        "                if i not in self.visited:\n",
        "                    queue.append(i)\n",
        "                    self.visited.append(i)\n",
        "\n",
        "# Driver code\n",
        "# Create a graph given in the above diagram\n",
        "g = Graph()\n",
        "g.addEdge(0, 1)\n",
        "g.addEdge(0, 2)\n",
        "g.addEdge(1, 2)\n",
        "g.addEdge(2, 0)\n",
        "g.addEdge(2, 3)\n",
        "g.addEdge(3, 3)\n",
        "\n",
        "print(\"Following is Breadth First Traversal (starting from vertex 2):\")\n",
        "g.BFS(2)\n"
      ]
    }
  ]
}