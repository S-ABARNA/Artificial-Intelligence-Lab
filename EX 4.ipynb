{
  "nbformat": 4,
  "nbformat_minor": 0,
  "metadata": {
    "colab": {
      "provenance": [],
      "authorship_tag": "ABX9TyMvC7e4LJUnd0T50vfMMAkE",
      "include_colab_link": true
    },
    "kernelspec": {
      "name": "python3",
      "display_name": "Python 3"
    },
    "language_info": {
      "name": "python"
    }
  },
  "cells": [
    {
      "cell_type": "markdown",
      "metadata": {
        "id": "view-in-github",
        "colab_type": "text"
      },
      "source": [
        "<a href=\"https://colab.research.google.com/github/S-ABARNA/Artificial-Intelligence-Lab/blob/main/EX%204.ipynb\" target=\"_parent\"><img src=\"https://colab.research.google.com/assets/colab-badge.svg\" alt=\"Open In Colab\"/></a>"
      ]
    },
    {
      "cell_type": "code",
      "execution_count": 1,
      "metadata": {
        "colab": {
          "base_uri": "https://localhost:8080/"
        },
        "id": "DefASNHH_jrY",
        "outputId": "8b1333c2-33d2-4864-f0a0-21231325e78f"
      },
      "outputs": [
        {
          "output_type": "stream",
          "name": "stdout",
          "text": [
            "[[0 0 0]\n",
            " [0 0 0]\n",
            " [0 0 0]]\n",
            "Board after 1 move:\n",
            "[[0 0 0]\n",
            " [0 0 1]\n",
            " [0 0 0]]\n",
            "Board after 2 move:\n",
            "[[0 0 0]\n",
            " [0 0 1]\n",
            " [0 2 0]]\n",
            "Board after 3 move:\n",
            "[[0 0 1]\n",
            " [0 0 1]\n",
            " [0 2 0]]\n",
            "Board after 4 move:\n",
            "[[0 0 1]\n",
            " [0 0 1]\n",
            " [0 2 2]]\n",
            "Board after 5 move:\n",
            "[[0 0 1]\n",
            " [0 0 1]\n",
            " [1 2 2]]\n",
            "Board after 6 move:\n",
            "[[0 0 1]\n",
            " [0 2 1]\n",
            " [1 2 2]]\n",
            "Board after 7 move:\n",
            "[[0 1 1]\n",
            " [0 2 1]\n",
            " [1 2 2]]\n",
            "Board after 8 move:\n",
            "[[0 1 1]\n",
            " [2 2 1]\n",
            " [1 2 2]]\n",
            "Board after 9 move:\n",
            "[[1 1 1]\n",
            " [2 2 1]\n",
            " [1 2 2]]\n",
            "Winner is: 1\n"
          ]
        }
      ],
      "source": [
        "import numpy as np\n",
        "import random\n",
        "from time import sleep\n",
        "\n",
        "def create_board():\n",
        "    return np.zeros((3, 3), dtype=int)\n",
        "\n",
        "def possibilities(board):\n",
        "    return [(i, j) for i in range(3) for j in range(3) if board[i, j] == 0]\n",
        "\n",
        "def random_place(board, player):\n",
        "    selection = possibilities(board)\n",
        "    if selection:\n",
        "        current_loc = random.choice(selection)\n",
        "        board[current_loc] = player\n",
        "    return board\n",
        "\n",
        "def check_win(board, player):\n",
        "    return (\n",
        "        any(np.all(board == player, axis=0)) or  # Check rows\n",
        "        any(np.all(board == player, axis=1)) or  # Check columns\n",
        "        np.all(np.diag(board) == player) or  # Check main diagonal\n",
        "        np.all(np.diag(np.fliplr(board)) == player)  # Check secondary diagonal\n",
        "    )\n",
        "\n",
        "def evaluate(board):\n",
        "    for player in [1, 2]:\n",
        "        if check_win(board, player):\n",
        "            return player\n",
        "    return -1 if np.all(board != 0) else 0\n",
        "\n",
        "def play_game():\n",
        "    board, winner, counter = create_board(), 0, 1\n",
        "    print(board)\n",
        "    sleep(2)\n",
        "\n",
        "    while winner == 0:\n",
        "        for player in [1, 2]:\n",
        "            board = random_place(board, player)\n",
        "            print(f\"Board after {counter} move:\")\n",
        "            print(board)\n",
        "            sleep(2)\n",
        "            counter += 1\n",
        "            winner = evaluate(board)\n",
        "            if winner != 0:\n",
        "                break\n",
        "\n",
        "    return winner\n",
        "\n",
        "# Driver Code\n",
        "print(\"Winner is:\", play_game())\n"
      ]
    }
  ]
}