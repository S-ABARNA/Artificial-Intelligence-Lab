{
  "nbformat": 4,
  "nbformat_minor": 0,
  "metadata": {
    "colab": {
      "provenance": [],
      "authorship_tag": "ABX9TyOBHojbrQrQ6m7NJKwsMXBs",
      "include_colab_link": true
    },
    "kernelspec": {
      "name": "python3",
      "display_name": "Python 3"
    },
    "language_info": {
      "name": "python"
    }
  },
  "cells": [
    {
      "cell_type": "markdown",
      "metadata": {
        "id": "view-in-github",
        "colab_type": "text"
      },
      "source": [
        "<a href=\"https://colab.research.google.com/github/S-ABARNA/Artificial-Intelligence-Lab/blob/main/EX%205(b).ipynb\" target=\"_parent\"><img src=\"https://colab.research.google.com/assets/colab-badge.svg\" alt=\"Open In Colab\"/></a>"
      ]
    },
    {
      "cell_type": "code",
      "execution_count": 1,
      "metadata": {
        "colab": {
          "base_uri": "https://localhost:8080/"
        },
        "id": "UiWyRTqeCN80",
        "outputId": "a1493daf-8e96-471d-eeea-f90c3cb82b35"
      },
      "outputs": [
        {
          "output_type": "stream",
          "name": "stdout",
          "text": [
            "Path found: ['A', 'F', 'G', 'I', 'J']\n"
          ]
        },
        {
          "output_type": "execute_result",
          "data": {
            "text/plain": [
              "['A', 'F', 'G', 'I', 'J']"
            ]
          },
          "metadata": {},
          "execution_count": 1
        }
      ],
      "source": [
        "import heapq\n",
        "\n",
        "def aStarAlgo(start_node, stop_node):\n",
        "    # Priority queue (min-heap) to store (cost, node)\n",
        "    open_set = [(0, start_node)]\n",
        "    heapq.heapify(open_set)\n",
        "\n",
        "    # Dictionary to store costs and parent nodes\n",
        "    g = {start_node: 0}\n",
        "    parents = {start_node: None}\n",
        "\n",
        "    # Track nodes in open_set (for quick lookup)\n",
        "    open_dict = {start_node: 0}\n",
        "\n",
        "    while open_set:\n",
        "        # Get node with the lowest f-score (g + heuristic)\n",
        "        _, n = heapq.heappop(open_set)\n",
        "        open_dict.pop(n, None)\n",
        "\n",
        "        # If reached the goal, reconstruct path\n",
        "        if n == stop_node:\n",
        "            path = []\n",
        "            while n is not None:\n",
        "                path.append(n)\n",
        "                n = parents[n]\n",
        "            path.reverse()\n",
        "            print('Path found:', path)\n",
        "            return path\n",
        "\n",
        "        for (m, weight) in get_neighbors(n):\n",
        "            new_g = g[n] + weight\n",
        "\n",
        "            if m not in g or new_g < g[m]:  # Found a better path\n",
        "                g[m] = new_g\n",
        "                parents[m] = n\n",
        "                f = new_g + heuristic(m)\n",
        "\n",
        "                # Add or update priority queue\n",
        "                if m not in open_dict:\n",
        "                    heapq.heappush(open_set, (f, m))\n",
        "                    open_dict[m] = f\n",
        "                else:\n",
        "                    # Update existing node cost if better\n",
        "                    open_dict[m] = f\n",
        "                    heapq.heappush(open_set, (f, m))\n",
        "\n",
        "    print('Path does not exist!')\n",
        "    return None\n",
        "\n",
        "def get_neighbors(v):\n",
        "    return Graph_nodes.get(v, [])\n",
        "\n",
        "def heuristic(n):\n",
        "    H_dist = {\n",
        "        'A': 11, 'B': 6, 'C': 5, 'D': 7, 'E': 3, 'F': 6,\n",
        "        'G': 5, 'H': 3, 'I': 1, 'J': 0\n",
        "    }\n",
        "    return H_dist.get(n, float('inf'))  # Default to infinity if not found\n",
        "\n",
        "Graph_nodes = {\n",
        "    'A': [('B', 6), ('F', 3)],\n",
        "    'B': [('A', 6), ('C', 3), ('D', 2)],\n",
        "    'C': [('B', 3), ('D', 1), ('E', 5)],\n",
        "    'D': [('B', 2), ('C', 1), ('E', 8)],\n",
        "    'E': [('C', 5), ('D', 8), ('I', 5), ('J', 5)],\n",
        "    'F': [('A', 3), ('G', 1), ('H', 7)],\n",
        "    'G': [('F', 1), ('I', 3)],\n",
        "    'H': [('F', 7), ('I', 2)],\n",
        "    'I': [('E', 5), ('G', 3), ('H', 2), ('J', 3)],\n",
        "    'J': []\n",
        "}\n",
        "\n",
        "# Run the A* algorithm\n",
        "aStarAlgo('A', 'J')\n"
      ]
    }
  ]
}