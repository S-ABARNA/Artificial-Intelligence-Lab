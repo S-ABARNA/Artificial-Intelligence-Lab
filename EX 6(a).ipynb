{
  "nbformat": 4,
  "nbformat_minor": 0,
  "metadata": {
    "colab": {
      "provenance": [],
      "authorship_tag": "ABX9TyNOIJaoIhldtcXkqvcvrtGV",
      "include_colab_link": true
    },
    "kernelspec": {
      "name": "python3",
      "display_name": "Python 3"
    },
    "language_info": {
      "name": "python"
    }
  },
  "cells": [
    {
      "cell_type": "markdown",
      "metadata": {
        "id": "view-in-github",
        "colab_type": "text"
      },
      "source": [
        "<a href=\"https://colab.research.google.com/github/S-ABARNA/Artificial-Intelligence-Lab/blob/main/EX%206(a).ipynb\" target=\"_parent\"><img src=\"https://colab.research.google.com/assets/colab-badge.svg\" alt=\"Open In Colab\"/></a>"
      ]
    },
    {
      "cell_type": "code",
      "execution_count": 1,
      "metadata": {
        "colab": {
          "base_uri": "https://localhost:8080/"
        },
        "id": "4KBYg_IlD0vm",
        "outputId": "89c61e35-c39a-4aac-b05a-f9f8ee4ffc7b"
      },
      "outputs": [
        {
          "output_type": "stream",
          "name": "stdout",
          "text": [
            "The optimal value is: 12\n"
          ]
        }
      ],
      "source": [
        "import math\n",
        "\n",
        "def minimax(curDepth, nodeIndex, maxTurn, scores, targetDepth):\n",
        "    # Base case: targetDepth reached\n",
        "    if curDepth == targetDepth:\n",
        "        return scores[nodeIndex]\n",
        "\n",
        "    if maxTurn:\n",
        "        return max(\n",
        "            minimax(curDepth + 1, nodeIndex * 2, False, scores, targetDepth),\n",
        "            minimax(curDepth + 1, nodeIndex * 2 + 1, False, scores, targetDepth)\n",
        "        )\n",
        "    else:\n",
        "        return min(\n",
        "            minimax(curDepth + 1, nodeIndex * 2, True, scores, targetDepth),\n",
        "            minimax(curDepth + 1, nodeIndex * 2 + 1, True, scores, targetDepth)\n",
        "        )\n",
        "\n",
        "# Driver code\n",
        "scores = [3, 5, 2, 9, 12, 5, 23, 23]\n",
        "treeDepth = int(math.log2(len(scores)))\n",
        "\n",
        "print(\"The optimal value is:\", end=\" \")\n",
        "print(minimax(0, 0, True, scores, treeDepth))\n",
        "\n",
        "\n",
        "\n",
        "\n"
      ]
    }
  ]
}