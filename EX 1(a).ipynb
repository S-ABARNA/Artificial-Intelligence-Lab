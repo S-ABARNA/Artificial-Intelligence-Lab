{
  "nbformat": 4,
  "nbformat_minor": 0,
  "metadata": {
    "colab": {
      "provenance": [],
      "authorship_tag": "ABX9TyN7UHURXS2oTAz8YS9/98wx",
      "include_colab_link": true
    },
    "kernelspec": {
      "name": "python3",
      "display_name": "Python 3"
    },
    "language_info": {
      "name": "python"
    }
  },
  "cells": [
    {
      "cell_type": "markdown",
      "metadata": {
        "id": "view-in-github",
        "colab_type": "text"
      },
      "source": [
        "<a href=\"https://colab.research.google.com/github/S-ABARNA/Artificial-Intelligence-Lab/blob/main/EX%201(a).ipynb\" target=\"_parent\"><img src=\"https://colab.research.google.com/assets/colab-badge.svg\" alt=\"Open In Colab\"/></a>"
      ]
    },
    {
      "cell_type": "code",
      "execution_count": null,
      "metadata": {
        "colab": {
          "base_uri": "https://localhost:8080/"
        },
        "id": "zFdNUYIv5XY8",
        "outputId": "bbbb11b5-3ccb-4168-d456-9598ae1be552"
      },
      "outputs": [
        {
          "output_type": "stream",
          "name": "stdout",
          "text": [
            "4\n"
          ]
        }
      ],
      "source": [
        "class Solution:\n",
        "    def solve(self, board):\n",
        "        visited_states = {}\n",
        "        flatten = []\n",
        "\n",
        "        for i in range(len(board)):\n",
        "            flatten += board[i]\n",
        "\n",
        "        flatten = tuple(flatten)  # Convert to immutable tuple for hashing\n",
        "        visited_states[flatten] = 0  # Distance from initial state\n",
        "\n",
        "        if flatten == (0, 1, 2, 3, 4, 5, 6, 7, 8):\n",
        "            return 0  # Already solved\n",
        "\n",
        "        return self.get_paths(visited_states)\n",
        "\n",
        "    def get_paths(self, visited_states):\n",
        "        cnt = 0  # Number of moves\n",
        "\n",
        "        while True:\n",
        "            current_nodes = [x for x in visited_states if visited_states[x] == cnt]\n",
        "\n",
        "            if not current_nodes:\n",
        "                return -1  # No solution\n",
        "\n",
        "            for node in current_nodes:\n",
        "                next_moves = self.find_next(node)\n",
        "\n",
        "                for move in next_moves:\n",
        "                    if move not in visited_states:\n",
        "                        visited_states[move] = cnt + 1\n",
        "\n",
        "                        if move == (0, 1, 2, 3, 4, 5, 6, 7, 8):\n",
        "                            return cnt + 1  # Found the solution\n",
        "\n",
        "            cnt += 1  # Increment move counter\n",
        "\n",
        "    def find_next(self, node):\n",
        "        moves = {\n",
        "            0: [1, 3],  1: [0, 2, 4],  2: [1, 5],\n",
        "            3: [0, 4, 6],  4: [1, 3, 5, 7],  5: [2, 4, 8],\n",
        "            6: [3, 7],  7: [4, 6, 8],  8: [5, 7]\n",
        "        }\n",
        "\n",
        "        results = []\n",
        "        pos_0 = node.index(0)  # Find the position of the empty tile (0)\n",
        "\n",
        "        for move in moves[pos_0]:\n",
        "            new_node = list(node)  # Convert tuple to list for swapping\n",
        "            new_node[move], new_node[pos_0] = new_node[pos_0], new_node[move]\n",
        "            results.append(tuple(new_node))  # Convert back to tuple for hashing\n",
        "\n",
        "        return results\n",
        "\n",
        "# Example Usage\n",
        "ob = Solution()\n",
        "matrix = [\n",
        "    [3, 1, 2],\n",
        "    [4, 7, 5],\n",
        "    [6, 8, 0]\n",
        "]\n",
        "print(ob.solve(matrix))  # Returns the minimum moves to solve the puzzle\n"
      ]
    }
  ]
}